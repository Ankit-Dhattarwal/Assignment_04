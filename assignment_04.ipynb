{
 "cells": [
  {
   "cell_type": "markdown",
   "id": "7882a176-52af-4598-be81-c3b5fa263b9d",
   "metadata": {},
   "source": [
    "#### Q.1> Explain Class and Object with respect to Object-Oriented Programming. Give a suitable example."
   ]
  },
  {
   "cell_type": "markdown",
   "id": "488d486b-bf9f-4f14-93f7-9be3b91286e8",
   "metadata": {},
   "source": [
    "#### ANSWER"
   ]
  },
  {
   "cell_type": "markdown",
   "id": "3b4c1368-6349-4015-aa9d-5afe3143ddb0",
   "metadata": {},
   "source": [
    "##### A class is a blueprint for creating objects that defines a set of attributes and methods that an object of that class can have. An example of a class called \"Person\" that has attributes such as \"name,\" \"age,\" and \"gender,\". \n",
    "##### We can create multiple objects of this class, each with its own set of values for the attributes. \n",
    "##### For example, we can create two objects, \"Ankit\" and \"Pooja\" with the following attribute values: Ankit: name = \"Ankit Dhattarwal\", age = 19, gender = \"Male\" Pooja: name = \"Pooja Rani\", age = 18, gender = \"Female\""
   ]
  },
  {
   "cell_type": "markdown",
   "id": "3f8d2cae-0ff2-4f60-a995-af6a8b660587",
   "metadata": {},
   "source": [
    "#### Q.2> Name the four pillars of OOPs."
   ]
  },
  {
   "cell_type": "markdown",
   "id": "fd5c0b5b-dda6-4996-af80-63a39edfdb34",
   "metadata": {},
   "source": [
    "#### ANSWER"
   ]
  },
  {
   "cell_type": "markdown",
   "id": "293a4985-d511-4eae-94b8-86f5451054b0",
   "metadata": {},
   "source": [
    "##### 1. Encapsulation\n",
    "##### 2. Inheritance\n",
    "##### 3. Polymorphism\n",
    "##### 4. Abstraction"
   ]
  },
  {
   "cell_type": "markdown",
   "id": "04a1a4e6-f115-4a32-a1c2-c707f90d41ed",
   "metadata": {},
   "source": [
    "##### Q.3> Explain why the __init__() function is used. Give a suitable example."
   ]
  },
  {
   "cell_type": "markdown",
   "id": "df36657b-97e1-4317-8261-0c37bdab0c5e",
   "metadata": {},
   "source": [
    "#### ANSWER"
   ]
  },
  {
   "cell_type": "markdown",
   "id": "3e50a0ac-f71a-4f16-9f09-49bbf54860dc",
   "metadata": {},
   "source": [
    "##### The __init__() function is a special method in Python that is used to initialize the attributes of an object when it is created. It is a constructor method that gets called automatically when an object is created from a class, and it is used to set the initial state of the object. The __init__() method takes the self parameter, which refers to the object being created, and any other parameters required to initialize the object."
   ]
  },
  {
   "cell_type": "code",
   "execution_count": 9,
   "id": "6cd59167-5b72-4274-8887-aba84a7e3147",
   "metadata": {},
   "outputs": [],
   "source": [
    "class Person:\n",
    "    def __init__(self, name, age):\n",
    "        self.name = name\n",
    "        self.age = age\n",
    "\n",
    "person1 = Person(\"Ankit Dhattarwal\", 19)\n",
    "person2 = Person(\"Aman\", 20)\n"
   ]
  },
  {
   "cell_type": "code",
   "execution_count": 10,
   "id": "7470a904-f04f-4aa2-968e-7ca0c16ec13b",
   "metadata": {},
   "outputs": [
    {
     "data": {
      "text/plain": [
       "'Ankit Dhattarwal'"
      ]
     },
     "execution_count": 10,
     "metadata": {},
     "output_type": "execute_result"
    }
   ],
   "source": [
    "person1.name"
   ]
  },
  {
   "cell_type": "markdown",
   "id": "f17a94f5-e406-4e92-baa8-cea6cc0015b6",
   "metadata": {},
   "source": [
    "##### Q.4> Why self is used in OOPs?"
   ]
  },
  {
   "cell_type": "markdown",
   "id": "1a7c9b8f-6734-4526-9c13-adfef52f2b33",
   "metadata": {},
   "source": [
    "#### ANSWER"
   ]
  },
  {
   "cell_type": "markdown",
   "id": "005a72ed-8fe3-48e7-be03-88a68d76d845",
   "metadata": {},
   "source": [
    "##### In object-oriented programming (OOP), self is a reference to the current instance of a class. It is a special keyword in Python that is used to refer to the instance of the class being operated on.\n",
    "##### When a method is called on an instance of a class, Python automatically passes the instance as the first argument to the method. By convention, this argument is named self. self allows the instance to access its own attributes and methods, as well as those of the class it belongs to."
   ]
  },
  {
   "cell_type": "markdown",
   "id": "f3be5a61-377f-4add-9cc2-8ce77caff1a6",
   "metadata": {},
   "source": [
    "##### Q.5> What is inheritance? Give an example for each type of inheritance."
   ]
  },
  {
   "cell_type": "markdown",
   "id": "e256621e-6c67-4de6-8b0a-968fcc1914d6",
   "metadata": {},
   "source": [
    "#### ANSWER"
   ]
  },
  {
   "cell_type": "markdown",
   "id": "719117a9-9503-42cd-b488-4c03b7383d10",
   "metadata": {},
   "source": [
    "##### Inheritance is a mechanism in object-oriented programming that allows a new class to be based on an existing class, inheriting its attributes and methods. The existing class is called the superclass or base class, and the new class is called the subclass or derived class.\n",
    "##### Inheritance is a way of creating a new class from an existing class without modifying the original class. The subclass inherits all the attributes and methods of the superclass and can add new attributes and methods, or override existing ones. This makes it easier to reuse code and to create classes that are closely related to each other.\n",
    "\n",
    "##### There are four types of inheritance:\n",
    "##### 1. Single Inheritance: In single inheritance, a subclass inherits from only one superclass. This is the simplest form of inheritance."
   ]
  },
  {
   "cell_type": "code",
   "execution_count": 12,
   "id": "ad9978fa-4e88-4bcf-8c6d-5a07be94e911",
   "metadata": {},
   "outputs": [
    {
     "name": "stdout",
     "output_type": "stream",
     "text": [
      "Animal Speaking\n",
      "Dog barking\n"
     ]
    }
   ],
   "source": [
    "class Animal:\n",
    "    def speak(self):\n",
    "        print(\"Animal Speaking\")\n",
    "\n",
    "class Dog(Animal):\n",
    "    def bark(self):\n",
    "        print(\"Dog barking\")\n",
    "\n",
    "d = Dog()\n",
    "d.speak()    \n",
    "d.bark()    \n"
   ]
  },
  {
   "cell_type": "markdown",
   "id": "590a76b5-3de2-4b2a-b893-fab39ce16c00",
   "metadata": {},
   "source": [
    "##### 2.Multiple Inheritance: In multiple inheritance, a subclass inherits from multiple superclasses. This allows the subclass to combine the attributes and methods of its parent classes."
   ]
  },
  {
   "cell_type": "code",
   "execution_count": 13,
   "id": "49422822-51e7-4f4a-a906-fa4d5eaad024",
   "metadata": {},
   "outputs": [
    {
     "name": "stdout",
     "output_type": "stream",
     "text": [
      "Person breathing\n",
      "Doctor healing\n",
      "Surgeon operating\n"
     ]
    }
   ],
   "source": [
    "class Person:\n",
    "    def breathe(self):\n",
    "        print(\"Person breathing\")\n",
    "\n",
    "class Doctor:\n",
    "    def heal(self):\n",
    "        print(\"Doctor healing\")\n",
    "\n",
    "class Surgeon(Person, Doctor):\n",
    "    def operate(self):\n",
    "        print(\"Surgeon operating\")\n",
    "\n",
    "s = Surgeon()\n",
    "s.breathe()   \n",
    "s.heal()      \n",
    "s.operate()    \n"
   ]
  },
  {
   "cell_type": "markdown",
   "id": "1c8f433c-eae4-47a6-9fd0-beb582316299",
   "metadata": {},
   "source": [
    "##### 3.Multilevel Inheritance: In multilevel inheritance, a subclass inherits from another subclass, which in turn inherits from a superclass. This creates a hierarchy of classes."
   ]
  },
  {
   "cell_type": "code",
   "execution_count": 14,
   "id": "c1ece950-eaec-47b0-bfe3-315018d4e2b4",
   "metadata": {},
   "outputs": [
    {
     "name": "stdout",
     "output_type": "stream",
     "text": [
      "Animal Speaking\n",
      "Dog barking\n",
      "Labrador breed\n"
     ]
    }
   ],
   "source": [
    "class Animal:\n",
    "    def speak(self):\n",
    "        print(\"Animal Speaking\")\n",
    "\n",
    "class Dog(Animal):\n",
    "    def bark(self):\n",
    "        print(\"Dog barking\")\n",
    "\n",
    "class Labrador(Dog):\n",
    "    def breed(self):\n",
    "        print(\"Labrador breed\")\n",
    "\n",
    "l = Labrador()\n",
    "l.speak()    \n",
    "l.bark()     \n",
    "l.breed()    \n"
   ]
  },
  {
   "cell_type": "markdown",
   "id": "1960ca67-e69c-4b96-ac97-c974b71ec183",
   "metadata": {},
   "source": [
    "##### 4. Hierarchical Inheritance: In hierarchical inheritance, multiple subclasses inherit from the same superclass."
   ]
  },
  {
   "cell_type": "code",
   "execution_count": null,
   "id": "1cc7cba8-dcb3-497b-9e6e-863d1b024092",
   "metadata": {},
   "outputs": [],
   "source": []
  }
 ],
 "metadata": {
  "kernelspec": {
   "display_name": "Python 3 (ipykernel)",
   "language": "python",
   "name": "python3"
  },
  "language_info": {
   "codemirror_mode": {
    "name": "ipython",
    "version": 3
   },
   "file_extension": ".py",
   "mimetype": "text/x-python",
   "name": "python",
   "nbconvert_exporter": "python",
   "pygments_lexer": "ipython3",
   "version": "3.10.8"
  }
 },
 "nbformat": 4,
 "nbformat_minor": 5
}
